{
 "cells": [
  {
   "cell_type": "code",
   "execution_count": 1,
   "metadata": {
    "collapsed": false,
    "deletable": true,
    "editable": true
   },
   "outputs": [],
   "source": [
    "import pandas as pd\n",
    "import numpy as np\n",
    "import scipy.stats as ss\n",
    "from pandas_datareader import data, wb\n",
    "import matplotlib.pyplot as plt\n",
    "%matplotlib inline "
   ]
  },
  {
   "cell_type": "code",
   "execution_count": 2,
   "metadata": {
    "collapsed": true,
    "deletable": true,
    "editable": true
   },
   "outputs": [],
   "source": [
    "from ipywidgets import interact, interactive, fixed\n",
    "import ipywidgets as widgets"
   ]
  },
  {
   "cell_type": "code",
   "execution_count": 3,
   "metadata": {
    "collapsed": false,
    "deletable": true,
    "editable": true
   },
   "outputs": [
    {
     "name": "stdout",
     "output_type": "stream",
     "text": [
      "Pandas Version 0.19.2\n"
     ]
    }
   ],
   "source": [
    "print (\"Pandas Version \" + pd.__version__)\n"
   ]
  },
  {
   "cell_type": "code",
   "execution_count": 4,
   "metadata": {
    "collapsed": false,
    "deletable": true,
    "editable": true
   },
   "outputs": [],
   "source": [
    "stock_data = data.get_data_yahoo(\"AAPL\")['Adj Close']"
   ]
  },
  {
   "cell_type": "code",
   "execution_count": 5,
   "metadata": {
    "collapsed": false,
    "deletable": true,
    "editable": true
   },
   "outputs": [],
   "source": [
    "def BS_Call(S,K,r,T,v,d=0):\n",
    "    d1 = (np.log(float(S)/K)+((r-d)+v*v/2.)*T)/(v*np.sqrt(T))\n",
    "    d2 = d1-v*np.sqrt(T)\n",
    "    return S*np.exp(-d*T)*ss.norm.cdf(d1)-K*np.exp(-r*T)*ss.norm.cdf(d2)\n",
    "\n"
   ]
  },
  {
   "cell_type": "code",
   "execution_count": 6,
   "metadata": {
    "collapsed": true,
    "deletable": true,
    "editable": true
   },
   "outputs": [],
   "source": [
    "def BS_Put(Flag,S,K,r,T,v,d=0):\n",
    "    d1 = (np.log(float(S)/K)+((r-d)+v*v/2.)*T)/(v*np.sqrt(T))\n",
    "    d2 = d1-v*np.sqrt(T)\n",
    "    return K*np.exp(-r*T)*ss.norm.cdf(-d2)-S*np.exp(-d*T)*ss.norm.cdf(-d1)"
   ]
  },
  {
   "cell_type": "code",
   "execution_count": 7,
   "metadata": {
    "collapsed": true,
    "deletable": true,
    "editable": true
   },
   "outputs": [],
   "source": [
    "def delta(S,T,v,K,r,d=0):\n",
    "    d1 = (np.log(float(S)/K)+((r-d)+v*v/2.)*T)/(v*np.sqrt(T))\n",
    "    return ss.norm.cdf(d1)\n"
   ]
  },
  {
   "cell_type": "code",
   "execution_count": null,
   "metadata": {
    "collapsed": true,
    "deletable": true,
    "editable": true
   },
   "outputs": [],
   "source": []
  },
  {
   "cell_type": "code",
   "execution_count": 8,
   "metadata": {
    "collapsed": false,
    "deletable": true,
    "editable": true
   },
   "outputs": [],
   "source": [
    "option = [BS_Call(S, K = 50, r = 0.05, T = 1, v = 0.5, d =0) for S in range (1,100)]\n",
    "option_terminal = [BS_Call(S, K = 50, r = 0.05, T = 0.01, v = 0.5, d =0) for S in range (1,100)]"
   ]
  },
  {
   "cell_type": "markdown",
   "metadata": {
    "deletable": true,
    "editable": true
   },
   "source": [
    "### Option Value"
   ]
  },
  {
   "cell_type": "code",
   "execution_count": 9,
   "metadata": {
    "collapsed": false,
    "deletable": true,
    "editable": true
   },
   "outputs": [
    {
     "data": {
      "image/png": "[encoded data removed]",
      "text/plain": [
       "<matplotlib.figure.Figure at 0x7f7d0b42d9e8>"
      ]
     },
     "metadata": {},
     "output_type": "display_data"
    }
   ],
   "source": [
    "plt.plot(option)\n",
    "plt.plot(option_terminal)\n",
    "plt.ylabel(\"Call Price\")\n",
    "plt.xlabel(\"Stock Price\")\n",
    "plt.title(\"Option Value\", fontsize = 13)\n",
    "plt.legend([\"T = 1\", \"T = 0\"])\n",
    "plt.text(45, 3, r'$\\theta\\ $')\n",
    "plt.show()"
   ]
  },
  {
   "cell_type": "code",
   "execution_count": 10,
   "metadata": {
    "collapsed": false,
    "deletable": true,
    "editable": true
   },
   "outputs": [
    {
     "data": {
      "application/vnd.jupyter.widget-view+json": {
       "model_id": "a2511a544e8a44a2bf859eccffe8a4b1"
      }
     },
     "metadata": {},
     "output_type": "display_data"
    },
    {
     "data": {
      "text/plain": [
       "<function __main__.plot_delta>"
      ]
     },
     "execution_count": 10,
     "metadata": {},
     "output_type": "execute_result"
    }
   ],
   "source": [
    "def plot_delta(T,v):\n",
    "    delta_test = [delta(S,T,v,K = 50, r = 0.05,  d =0) for S in range (10,80)]\n",
    "    plt.plot(delta_test)\n",
    "    plt.xlim([10,80])\n",
    "    plt.xlabel(\"Stock Price\")\n",
    "    plt.title(\"Option Delta\", fontsize = 13)\n",
    "    plt.show()\n",
    "\n",
    "interact(plot_delta, T = (0.01,1,0.1),v = (0.01,0.5))"
   ]
  },
  {
   "cell_type": "code",
   "execution_count": 11,
   "metadata": {
    "collapsed": false,
    "deletable": true,
    "editable": true
   },
   "outputs": [
    {
     "data": {
      "application/vnd.jupyter.widget-view+json": {
       "model_id": "4e58b86792974fbca09ac389ba609c8e"
      }
     },
     "metadata": {},
     "output_type": "display_data"
    }
   ],
   "source": [
    "interact(BS_Call, S=50, K = 50, r = 0.05, T = 1, v = 0.5, d =0 );"
   ]
  },
  {
   "cell_type": "code",
   "execution_count": 12,
   "metadata": {
    "collapsed": false,
    "deletable": true,
    "editable": true
   },
   "outputs": [],
   "source": [
    "class Option_C:\n",
    "    def __init__(self,S,K,r,T,v,d):\n",
    "\n",
    "        self.S = S                        \n",
    "        self.K = K               \n",
    "        self.r = r                        \n",
    "        self.T = T                        \n",
    "        self.v = v  \n",
    "        self.d = d\n",
    "        self.d1 = (np.log(float(self.S)/self.K)+((self.r-self.d)+self.v*self.v/2.)*self.T)/(self.v*np.sqrt(self.T))\n",
    "        self.d2  = self.d1-self.v*np.sqrt(self.T)\n",
    "        \n",
    "        #Pricing\n",
    "        self.price = BS_Call(S,K,r,T,v,d)\n",
    "        \n",
    "        #Greeks\n",
    "        self.delta = ss.norm.cdf(self.d1)"
   ]
  },
  {
   "cell_type": "code",
   "execution_count": 13,
   "metadata": {
    "collapsed": false,
    "deletable": true,
    "editable": true
   },
   "outputs": [],
   "source": [
    "test = Option_C(50,50,0.05,1,0.4,0)"
   ]
  },
  {
   "cell_type": "code",
   "execution_count": 14,
   "metadata": {
    "collapsed": false,
    "deletable": true,
    "editable": true
   },
   "outputs": [
    {
     "data": {
      "text/plain": [
       "9.0114757251083404"
      ]
     },
     "execution_count": 14,
     "metadata": {},
     "output_type": "execute_result"
    }
   ],
   "source": [
    "test.price"
   ]
  },
  {
   "cell_type": "code",
   "execution_count": 15,
   "metadata": {
    "collapsed": false,
    "deletable": true,
    "editable": true
   },
   "outputs": [
    {
     "data": {
      "text/plain": [
       "0.62740946415328402"
      ]
     },
     "execution_count": 15,
     "metadata": {},
     "output_type": "execute_result"
    }
   ],
   "source": [
    "test.delta"
   ]
  },
  {
   "cell_type": "code",
   "execution_count": null,
   "metadata": {
    "collapsed": true,
    "deletable": true,
    "editable": true
   },
   "outputs": [],
   "source": []
  }
 ],
 "metadata": {
  "kernelspec": {
   "display_name": "Python 3",
   "language": "python",
   "name": "python3"
  },
  "language_info": {
   "codemirror_mode": {
    "name": "ipython",
    "version": 3
   },
   "file_extension": ".py",
   "mimetype": "text/x-python",
   "name": "python",
   "nbconvert_exporter": "python",
   "pygments_lexer": "ipython3",
   "version": "3.6.0"
  },
  "widgets": {
   "application/vnd.jupyter.widget-state+json": {
    "state": {
     "01d07a1f91e64dadb9b5ad10d471b518": {
      "model_module": "jupyter-js-widgets",
      "model_module_version": "~2.1.4",
      "model_name": "IntSliderModel",
      "state": {
       "_model_module_version": "~2.1.4",
       "_view_module_version": "~2.1.4",
       "description": "T",
       "layout": "IPY_MODEL_26ee2c9b46b14be3bc672f3ff43cf41a",
       "max": 3,
       "min": -1,
       "style": "IPY_MODEL_b9bd95ffb1ae4d6b8269d5f1ad56baff",
       "value": 1
      }
     },
     "032b3ccee4e94722bc9590202b33c739": {
      "model_module": "jupyter-js-widgets",
      "model_module_version": "~2.1.4",
      "model_name": "FloatSliderModel",
      "state": {
       "_model_module_version": "~2.1.4",
       "_view_module_version": "~2.1.4",
       "description": "v",
       "layout": "IPY_MODEL_35e9e2c3117d492d8bbb5cea1463d41f",
       "max": 1.5,
       "min": -0.5,
       "step": 0.1,
       "value": 0.5
      }
     },
     "15c8a267368649d0ac8d7fa6169fee9f": {
      "model_module": "jupyter-js-widgets",
      "model_module_version": "~2.1.4",
      "model_name": "LayoutModel",
      "state": {
       "_model_module_version": "~2.1.4",
       "_view_module_version": "~2.1.4"
      }
     },
     "2005cffc7fd44880be0710d29895d9e4": {
      "model_module": "jupyter-js-widgets",
      "model_module_version": "~2.1.4",
      "model_name": "LayoutModel",
      "state": {
       "_model_module_version": "~2.1.4",
       "_view_module_version": "~2.1.4"
      }
     },
     "26ee2c9b46b14be3bc672f3ff43cf41a": {
      "model_module": "jupyter-js-widgets",
      "model_module_version": "~2.1.4",
      "model_name": "LayoutModel",
      "state": {
       "_model_module_version": "~2.1.4",
       "_view_module_version": "~2.1.4"
      }
     },
     "2c622e74f81e49e18c6e438732902423": {
      "model_module": "jupyter-js-widgets",
      "model_module_version": "~2.1.4",
      "model_name": "LayoutModel",
      "state": {
       "_model_module_version": "~2.1.4",
       "_view_module_version": "~2.1.4"
      }
     },
     "319ec8745c094635a390b7dade6dfb5c": {
      "model_module": "jupyter-js-widgets",
      "model_module_version": "~2.1.4",
      "model_name": "SliderStyleModel",
      "state": {
       "_model_module_version": "~2.1.4",
       "_view_module_version": "~2.1.4"
      }
     },
     "3212a90fc14d455a9bc1e8c6ed3729f8": {
      "model_module": "jupyter-js-widgets",
      "model_module_version": "~2.1.4",
      "model_name": "FloatSliderModel",
      "state": {
       "_model_module_version": "~2.1.4",
       "_view_module_version": "~2.1.4",
       "description": "T",
       "layout": "IPY_MODEL_e3093398dd0d4d12b1e4d43c4937f23a",
       "max": 1,
       "min": 0.01,
       "step": 0.1,
       "value": 0.41
      }
     },
     "3478a9e6eaac440a84b4bce495a69c07": {
      "model_module": "jupyter-js-widgets",
      "model_module_version": "~2.1.4",
      "model_name": "LayoutModel",
      "state": {
       "_model_module_version": "~2.1.4",
       "_view_module_version": "~2.1.4"
      }
     },
     "35e9e2c3117d492d8bbb5cea1463d41f": {
      "model_module": "jupyter-js-widgets",
      "model_module_version": "~2.1.4",
      "model_name": "LayoutModel",
      "state": {
       "_model_module_version": "~2.1.4",
       "_view_module_version": "~2.1.4"
      }
     },
     "4a2ff282c12a4b35b4b47f3580db4366": {
      "model_module": "jupyter-js-widgets",
      "model_module_version": "~2.1.4",
      "model_name": "LayoutModel",
      "state": {
       "_model_module_version": "~2.1.4",
       "_view_module_version": "~2.1.4"
      }
     },
     "4a506d0fcdf64d1394ca596fb265bc91": {
      "model_module": "jupyter-js-widgets",
      "model_module_version": "~2.1.4",
      "model_name": "LayoutModel",
      "state": {
       "_model_module_version": "~2.1.4",
       "_view_module_version": "~2.1.4"
      }
     },
     "4e58b86792974fbca09ac389ba609c8e": {
      "model_module": "jupyter-js-widgets",
      "model_module_version": "~2.1.4",
      "model_name": "VBoxModel",
      "state": {
       "_dom_classes": [
        "widget-interact"
       ],
       "_model_module_version": "~2.1.4",
       "_view_module_version": "~2.1.4",
       "children": [
        "IPY_MODEL_5b0c6cf0a4344c018950f28af526970e",
        "IPY_MODEL_f3c90198cea146eaae6982a69bc8e6ff",
        "IPY_MODEL_83763bc6d007498ab493a9c652240a82",
        "IPY_MODEL_01d07a1f91e64dadb9b5ad10d471b518",
        "IPY_MODEL_032b3ccee4e94722bc9590202b33c739",
        "IPY_MODEL_c34ac5be2af3416baebbc0d7f31412b7",
        "IPY_MODEL_78d4bada292744d09eff3b1d9acda35e"
       ],
       "layout": "IPY_MODEL_82f1bd3c1453417c811feed4f87c0136"
      }
     },
     "4f50a0efa964443486dab3c15db87a48": {
      "model_module": "jupyter-js-widgets",
      "model_module_version": "~2.1.4",
      "model_name": "LayoutModel",
      "state": {
       "_model_module_version": "~2.1.4",
       "_view_module_version": "~2.1.4"
      }
     },
     "5b0c6cf0a4344c018950f28af526970e": {
      "model_module": "jupyter-js-widgets",
      "model_module_version": "~2.1.4",
      "model_name": "IntSliderModel",
      "state": {
       "_model_module_version": "~2.1.4",
       "_view_module_version": "~2.1.4",
       "description": "S",
       "layout": "IPY_MODEL_4a506d0fcdf64d1394ca596fb265bc91",
       "max": 150,
       "min": -50,
       "style": "IPY_MODEL_98479448e0e84356a4bb511a24f6d0a4",
       "value": 50
      }
     },
     "78d4bada292744d09eff3b1d9acda35e": {
      "model_module": "jupyter-js-widgets",
      "model_module_version": "~2.1.4",
      "model_name": "OutputModel",
      "state": {
       "_dom_classes": [],
       "_model_module": "jupyter-js-widgets",
       "_model_module_version": "~2.1.4",
       "_view_module": "jupyter-js-widgets",
       "_view_module_version": "~2.1.4",
       "layout": "IPY_MODEL_15c8a267368649d0ac8d7fa6169fee9f",
       "msg_throttle": 1
      }
     },
     "82f1bd3c1453417c811feed4f87c0136": {
      "model_module": "jupyter-js-widgets",
      "model_module_version": "~2.1.4",
      "model_name": "LayoutModel",
      "state": {
       "_model_module_version": "~2.1.4",
       "_view_module_version": "~2.1.4"
      }
     },
     "83763bc6d007498ab493a9c652240a82": {
      "model_module": "jupyter-js-widgets",
      "model_module_version": "~2.1.4",
      "model_name": "FloatSliderModel",
      "state": {
       "_model_module_version": "~2.1.4",
       "_view_module_version": "~2.1.4",
       "description": "r",
       "layout": "IPY_MODEL_3478a9e6eaac440a84b4bce495a69c07",
       "max": 0.15000000000000002,
       "min": -0.05,
       "step": 0.1,
       "value": 0.05
      }
     },
     "88aea7c77c3741e28425109322a53900": {
      "model_module": "jupyter-js-widgets",
      "model_module_version": "~2.1.4",
      "model_name": "SliderStyleModel",
      "state": {
       "_model_module_version": "~2.1.4",
       "_view_module_version": "~2.1.4"
      }
     },
     "98479448e0e84356a4bb511a24f6d0a4": {
      "model_module": "jupyter-js-widgets",
      "model_module_version": "~2.1.4",
      "model_name": "SliderStyleModel",
      "state": {
       "_model_module_version": "~2.1.4",
       "_view_module_version": "~2.1.4"
      }
     },
     "a2511a544e8a44a2bf859eccffe8a4b1": {
      "model_module": "jupyter-js-widgets",
      "model_module_version": "~2.1.4",
      "model_name": "VBoxModel",
      "state": {
       "_dom_classes": [
        "widget-interact"
       ],
       "_model_module_version": "~2.1.4",
       "_view_module_version": "~2.1.4",
       "children": [
        "IPY_MODEL_3212a90fc14d455a9bc1e8c6ed3729f8",
        "IPY_MODEL_b851d26f2e6d4979997bf5f2bbe4810d",
        "IPY_MODEL_fd07996d8ecb4188a0e4b9fa10bcf695"
       ],
       "layout": "IPY_MODEL_2c622e74f81e49e18c6e438732902423"
      }
     },
     "b851d26f2e6d4979997bf5f2bbe4810d": {
      "model_module": "jupyter-js-widgets",
      "model_module_version": "~2.1.4",
      "model_name": "FloatSliderModel",
      "state": {
       "_model_module_version": "~2.1.4",
       "_view_module_version": "~2.1.4",
       "description": "v",
       "layout": "IPY_MODEL_4f50a0efa964443486dab3c15db87a48",
       "max": 0.5,
       "min": 0.01,
       "step": 0.1,
       "value": 0.255
      }
     },
     "b9bd95ffb1ae4d6b8269d5f1ad56baff": {
      "model_module": "jupyter-js-widgets",
      "model_module_version": "~2.1.4",
      "model_name": "SliderStyleModel",
      "state": {
       "_model_module_version": "~2.1.4",
       "_view_module_version": "~2.1.4"
      }
     },
     "c34ac5be2af3416baebbc0d7f31412b7": {
      "model_module": "jupyter-js-widgets",
      "model_module_version": "~2.1.4",
      "model_name": "IntSliderModel",
      "state": {
       "_model_module_version": "~2.1.4",
       "_view_module_version": "~2.1.4",
       "description": "d",
       "layout": "IPY_MODEL_2005cffc7fd44880be0710d29895d9e4",
       "max": 1,
       "style": "IPY_MODEL_319ec8745c094635a390b7dade6dfb5c"
      }
     },
     "cba0fe8553e3417b9d0ac9b8af433e20": {
      "model_module": "jupyter-js-widgets",
      "model_module_version": "~2.1.4",
      "model_name": "LayoutModel",
      "state": {
       "_model_module_version": "~2.1.4",
       "_view_module_version": "~2.1.4"
      }
     },
     "e3093398dd0d4d12b1e4d43c4937f23a": {
      "model_module": "jupyter-js-widgets",
      "model_module_version": "~2.1.4",
      "model_name": "LayoutModel",
      "state": {
       "_model_module_version": "~2.1.4",
       "_view_module_version": "~2.1.4"
      }
     },
     "f3c90198cea146eaae6982a69bc8e6ff": {
      "model_module": "jupyter-js-widgets",
      "model_module_version": "~2.1.4",
      "model_name": "IntSliderModel",
      "state": {
       "_model_module_version": "~2.1.4",
       "_view_module_version": "~2.1.4",
       "description": "K",
       "layout": "IPY_MODEL_4a2ff282c12a4b35b4b47f3580db4366",
       "max": 150,
       "min": -50,
       "style": "IPY_MODEL_88aea7c77c3741e28425109322a53900",
       "value": 50
      }
     },
     "fd07996d8ecb4188a0e4b9fa10bcf695": {
      "model_module": "jupyter-js-widgets",
      "model_module_version": "~2.1.4",
      "model_name": "OutputModel",
      "state": {
       "_dom_classes": [],
       "_model_module": "jupyter-js-widgets",
       "_model_module_version": "~2.1.4",
       "_view_module": "jupyter-js-widgets",
       "_view_module_version": "~2.1.4",
       "layout": "IPY_MODEL_cba0fe8553e3417b9d0ac9b8af433e20",
       "msg_throttle": 1
      }
     }
    },
    "version_major": 1,
    "version_minor": 0
   }
  }
 },
 "nbformat": 4,
 "nbformat_minor": 2
}
