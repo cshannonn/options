{
 "cells": [
  {
   "cell_type": "code",
   "execution_count": 53,
   "metadata": {
    "collapsed": false
   },
   "outputs": [],
   "source": [
    "import pandas as pd\n",
    "import numpy as np\n",
    "import scipy.stats as ss\n",
    "from pandas_datareader import data, wb\n",
    "import matplotlib.pyplot as plt\n",
    "%matplotlib inline "
   ]
  },
  {
   "cell_type": "code",
   "execution_count": 7,
   "metadata": {
    "collapsed": false
   },
   "outputs": [
    {
     "name": "stdout",
     "output_type": "stream",
     "text": [
      "0.19.2\n"
     ]
    }
   ],
   "source": [
    "print(pd.__version__)\n"
   ]
  },
  {
   "cell_type": "code",
   "execution_count": 6,
   "metadata": {
    "collapsed": false
   },
   "outputs": [],
   "source": [
    "stock_data = data.get_data_yahoo(\"AAPL\")['Adj Close']"
   ]
  },
  {
   "cell_type": "code",
   "execution_count": 35,
   "metadata": {
    "collapsed": false
   },
   "outputs": [],
   "source": [
    "def BS_Call(S,K,r,T,v,d=0):\n",
    "    d1 = (np.log(float(S)/K)+((r-d)+v*v/2.)*T)/(v*np.sqrt(T))\n",
    "    d2 = d1-v*np.sqrt(T)\n",
    "    return S*np.exp(-d*T)*ss.norm.cdf(d1)-K*np.exp(-r*T)*ss.norm.cdf(d2)\n",
    "\n"
   ]
  },
  {
   "cell_type": "code",
   "execution_count": 36,
   "metadata": {
    "collapsed": true
   },
   "outputs": [],
   "source": [
    "def BS_Put(Flag,S,K,r,T,v,d=0):\n",
    "    d1 = (np.log(float(S)/K)+((r-d)+v*v/2.)*T)/(v*np.sqrt(T))\n",
    "    d2 = d1-v*np.sqrt(T)\n",
    "    return K*np.exp(-r*T)*ss.norm.cdf(-d2)-S*np.exp(-d*T)*ss.norm.cdf(-d1)"
   ]
  },
  {
   "cell_type": "code",
   "execution_count": 165,
   "metadata": {
    "collapsed": true
   },
   "outputs": [],
   "source": [
    "def delta(S,T,v,K,r,d=0):\n",
    "    d1 = (np.log(float(S)/K)+((r-d)+v*v/2.)*T)/(v*np.sqrt(T))\n",
    "    return ss.norm.cdf(d1)\n"
   ]
  },
  {
   "cell_type": "code",
   "execution_count": 161,
   "metadata": {
    "collapsed": true
   },
   "outputs": [],
   "source": [
    "from ipywidgets import interact, interactive, fixed\n",
    "import ipywidgets as widgets"
   ]
  },
  {
   "cell_type": "code",
   "execution_count": 162,
   "metadata": {
    "collapsed": false
   },
   "outputs": [
    {
     "data": {
      "text/plain": [
       "10.896302106433424"
      ]
     },
     "metadata": {},
     "output_type": "display_data"
    }
   ],
   "source": [
    "interact(BS_Call, S=50, K = 50, r = 0.05, T = 1, v = 0.5, d =0 );"
   ]
  },
  {
   "cell_type": "code",
   "execution_count": 59,
   "metadata": {
    "collapsed": false
   },
   "outputs": [],
   "source": [
    "option = [BS_Call(S, K = 50, r = 0.05, T = 1, v = 0.5, d =0) for S in range (1,100)]\n",
    "option_terminal = [BS_Call(S, K = 50, r = 0.05, T = 0.01, v = 0.5, d =0) for S in range (1,100)]"
   ]
  },
  {
   "cell_type": "markdown",
   "metadata": {},
   "source": [
    "### Option Value"
   ]
  },
  {
   "cell_type": "code",
   "execution_count": 91,
   "metadata": {
    "collapsed": false
   },
   "outputs": [
    {
     "data": {
      "image/png": "[encoded data removed]",
      "text/plain": [
       "<matplotlib.figure.Figure at 0x7f5e7a17f128>"
      ]
     },
     "metadata": {},
     "output_type": "display_data"
    }
   ],
   "source": [
    "plt.plot(option)\n",
    "plt.plot(option_terminal)\n",
    "plt.ylabel(\"Call Price\")\n",
    "plt.xlabel(\"Stock Price\")\n",
    "plt.title(\"Option Value\", fontsize = 13)\n",
    "plt.legend([\"T = 1\", \"T = 0\"])\n",
    "plt.text(45, 3, r'$\\theta\\ $')\n",
    "plt.show()"
   ]
  },
  {
   "cell_type": "code",
   "execution_count": 166,
   "metadata": {
    "collapsed": false
   },
   "outputs": [
    {
     "data": {
      "image/png": "[encoded data removed]",
      "text/plain": [
       "<matplotlib.figure.Figure at 0x7f5e7a50fbe0>"
      ]
     },
     "metadata": {},
     "output_type": "display_data"
    }
   ],
   "source": [
    "def plot_delta(T,v):\n",
    "    delta_test = [delta(S,T,v,K = 50, r = 0.05,  d =0) for S in range (1,80)]\n",
    "    plt.plot(delta_test)\n",
    "    plt.xlim([1,80])\n",
    "    plt.show()\n",
    "\n",
    "interact(plot_delta, T = (0.01,1,0.1),v = (0.01,0.5))"
   ]
  },
  {
   "cell_type": "code",
   "execution_count": null,
   "metadata": {
    "collapsed": true
   },
   "outputs": [],
   "source": [
    "interact(BS_Call, S=50, K = 50, r = 0.05, T = 1, v = 0.5, d =0 );"
   ]
  },
  {
   "cell_type": "code",
   "execution_count": 131,
   "metadata": {
    "collapsed": false
   },
   "outputs": [],
   "source": [
    "class Option_C:\n",
    "    def __init__(self,S,K,r,T,v,d):\n",
    "\n",
    "        self.S = S                        \n",
    "        self.K = K               \n",
    "        self.r = r                        \n",
    "        self.T = T                        \n",
    "        self.v = v  \n",
    "        self.d = d\n",
    "        self.d1 = (np.log(float(self.S)/self.K)+((self.r-self.d)+self.v*self.v/2.)*self.T)/(self.v*np.sqrt(self.T))\n",
    "        self.d2  = self.d1-self.v*np.sqrt(self.T)\n",
    "        \n",
    "        #Pricing\n",
    "        self.price = BS_Call(S,K,r,T,v,d)\n",
    "        \n",
    "        #Greeks\n",
    "        self.delta = ss.norm.cdf(self.d1)"
   ]
  },
  {
   "cell_type": "code",
   "execution_count": 132,
   "metadata": {
    "collapsed": false
   },
   "outputs": [],
   "source": [
    "test = Option_C(50,50,0.05,1,0.4,0)"
   ]
  },
  {
   "cell_type": "code",
   "execution_count": 125,
   "metadata": {
    "collapsed": false
   },
   "outputs": [
    {
     "data": {
      "text/plain": [
       "9.0114757251083404"
      ]
     },
     "execution_count": 125,
     "metadata": {},
     "output_type": "execute_result"
    }
   ],
   "source": [
    "test.price"
   ]
  },
  {
   "cell_type": "code",
   "execution_count": 134,
   "metadata": {
    "collapsed": false
   },
   "outputs": [
    {
     "data": {
      "text/plain": [
       "0.62740946415328402"
      ]
     },
     "execution_count": 134,
     "metadata": {},
     "output_type": "execute_result"
    }
   ],
   "source": [
    "test.delta"
   ]
  },
  {
   "cell_type": "code",
   "execution_count": null,
   "metadata": {
    "collapsed": true
   },
   "outputs": [],
   "source": []
  }
 ],
 "metadata": {
  "kernelspec": {
   "display_name": "Python 3",
   "language": "python",
   "name": "python3"
  },
  "language_info": {
   "codemirror_mode": {
    "name": "ipython",
    "version": 3
   },
   "file_extension": ".py",
   "mimetype": "text/x-python",
   "name": "python",
   "nbconvert_exporter": "python",
   "pygments_lexer": "ipython3",
   "version": "3.6.0"
  },
  "widgets": {
   "state": {
    "1304331f394d457dbe7d796b6683cb6d": {
     "views": [
      {
       "cell_index": 7
      }
     ]
    },
    "4aa8421e032348b281d5275d48d4ff3f": {
     "views": [
      {
       "cell_index": 11
      }
     ]
    }
   },
   "version": "1.2.0"
  }
 },
 "nbformat": 4,
 "nbformat_minor": 2
}
